{
 "cells": [
  {
   "cell_type": "code",
   "execution_count": 1,
   "metadata": {
    "collapsed": true,
    "ExecuteTime": {
     "end_time": "2023-07-19T17:42:47.338240Z",
     "start_time": "2023-07-19T17:42:46.803212300Z"
    }
   },
   "outputs": [],
   "source": [
    "import os\n",
    "import numpy as np\n",
    "import matplotlib.pyplot as plt\n",
    "import matplotlib.image as mpimg\n",
    "import random\n",
    "import cv2\n",
    "import collections\n",
    "import pickle\n",
    "from sklearn.model_selection import train_test_split\n",
    "from sklearn.metrics import log_loss, accuracy_score, confusion_matrix\n",
    "import seaborn as sns"
   ]
  },
  {
   "cell_type": "markdown",
   "source": [
    "Assuming there will be 3 folders: authentic, copy-moved, spliced"
   ],
   "metadata": {
    "collapsed": false
   }
  },
  {
   "cell_type": "code",
   "execution_count": 2,
   "outputs": [],
   "source": [
    "# with open('../test_images_modified.pkl','rb') as file:\n",
    "#     test_authentic, test_copy_images, test_copy_masks, test_spliced_images, test_spliced_masks = pickle.load(file)"
   ],
   "metadata": {
    "collapsed": false,
    "ExecuteTime": {
     "end_time": "2023-07-19T17:42:48.176214100Z",
     "start_time": "2023-07-19T17:42:47.338240Z"
    }
   }
  },
  {
   "cell_type": "code",
   "execution_count": null,
   "outputs": [],
   "source": [
    "def create_dataset(img_folder):\n",
    "    img_data_array=[]\n",
    "    for dir1 in os.listdir(img_folder):\n",
    "        img_path= os.path.join(img_folder, dir1)\n",
    "        image= cv2.imread( img_path, cv2.COLOR_BGR2RGB)\n",
    "        image=np.array(image)\n",
    "        image = image.astype('float32')\n",
    "        image /= 255\n",
    "        img_data_array.append(image)\n",
    "\n",
    "    return img_data_array"
   ],
   "metadata": {
    "collapsed": false
   }
  },
  {
   "cell_type": "code",
   "execution_count": null,
   "outputs": [],
   "source": [
    "# extract the image array and class name\n",
    "\n",
    "holdout_authentic = create_dataset(r'D:\\SpoofSense_Assignment\\data\\holdout\\authentic')\n",
    "holdout_copy_images = create_dataset(r'D:\\SpoofSense_Assignment\\data\\holdout\\copy-moved\\images')\n",
    "holdout_copy_masks = create_dataset(r'D:\\SpoofSense_Assignment\\data\\holdout\\copy-moved\\masks')\n",
    "holdout_spliced_images = create_dataset(r'D:\\SpoofSense_Assignment\\data\\holdout\\spliced\\images')\n",
    "holdout_spliced_masks = create_dataset(r'D:\\SpoofSense_Assignment\\data\\holdout\\spliced\\masks')"
   ],
   "metadata": {
    "collapsed": false
   }
  },
  {
   "cell_type": "markdown",
   "source": [
    "Assuming all the images are equal in number and no need to balance it, we resize the images to 64,64 and feed it to the model"
   ],
   "metadata": {
    "collapsed": false
   }
  },
  {
   "cell_type": "code",
   "execution_count": null,
   "outputs": [],
   "source": [
    "import cv2\n",
    "\n",
    "def resize_images(images_list, target_size):\n",
    "    resized_images = []\n",
    "    for img in images_list:\n",
    "        # Determine if the image needs to be enlarged or shrinked\n",
    "        if img.shape[0] < target_size[0] or img.shape[1] < target_size[1]:\n",
    "            interpolation = cv2.INTER_LINEAR  # Enlarging\n",
    "        else:\n",
    "            interpolation = cv2.INTER_AREA  # Shrinking\n",
    "\n",
    "        # Resize the image with the appropriate interpolation method\n",
    "        resized_img = cv2.resize(img, target_size, interpolation=interpolation)\n",
    "        resized_images.append(resized_img)\n",
    "\n",
    "    return resized_images\n",
    "\n",
    "resized_holdout_authentic = resize_images(holdout_authentic, (64,64))\n",
    "resized_holdout_copy_images = resize_images(holdout_copy_images, (64,64))\n",
    "# resized_holdout_copy_masks = resize_images(holdout_copy_masks, (64,64))\n",
    "resized_holdout_spliced_images = resize_images(holdout_spliced_images, (64,64))\n",
    "# resized_holdout_spliced_masks = resize_images(holdout_spliced_masks, (64,64))"
   ],
   "metadata": {
    "collapsed": false
   }
  },
  {
   "cell_type": "code",
   "execution_count": null,
   "outputs": [],
   "source": [
    "resized_holdout_forged = resized_holdout_copy_images + resized_holdout_spliced_images"
   ],
   "metadata": {
    "collapsed": false
   }
  },
  {
   "cell_type": "code",
   "execution_count": null,
   "outputs": [],
   "source": [
    "holdout_labels = [0]*len(resized_holdout_authentic) + [1]*len(resized_holdout_forged)"
   ],
   "metadata": {
    "collapsed": false
   }
  },
  {
   "cell_type": "code",
   "execution_count": null,
   "outputs": [],
   "source": [
    "holdout_data = resized_holdout_authentic + resized_holdout_forged"
   ],
   "metadata": {
    "collapsed": false
   }
  },
  {
   "cell_type": "code",
   "execution_count": 6,
   "outputs": [],
   "source": [
    "from keras.utils import to_categorical\n",
    "\n",
    "holdout_labels = to_categorical(holdout_labels, num_classes=2)\n",
    "# y_test = to_categorical(test_labels, num_classes=2)"
   ],
   "metadata": {
    "collapsed": false,
    "ExecuteTime": {
     "end_time": "2023-07-19T17:43:00.291210300Z",
     "start_time": "2023-07-19T17:42:56.222213800Z"
    }
   }
  },
  {
   "cell_type": "markdown",
   "source": [
    "Run the below cells to load the model:"
   ],
   "metadata": {
    "collapsed": false
   }
  },
  {
   "cell_type": "code",
   "execution_count": 7,
   "outputs": [],
   "source": [
    "import keras\n",
    "from keras.models import load_model, Sequential\n",
    "from keras.layers import Dense, Flatten, Dropout\n",
    "import keras.backend as K\n",
    "from keras import optimizers\n",
    "from keras.layers import LeakyReLU\n",
    "from keras.applications.resnet50 import ResNet50"
   ],
   "metadata": {
    "collapsed": false,
    "ExecuteTime": {
     "end_time": "2023-07-19T17:43:00.305212500Z",
     "start_time": "2023-07-19T17:43:00.296215400Z"
    }
   }
  },
  {
   "cell_type": "code",
   "execution_count": 16,
   "outputs": [],
   "source": [
    "resnet_model=ResNet50(weights='imagenet', include_top=False, input_shape=(64,64, 3))\n",
    "\n",
    "model_aug=Sequential()\n",
    "model_aug.add(resnet_model)\n",
    "\n",
    "top_model=Sequential()\n",
    "top_model.add(Flatten(input_shape=(2, 2, 2048)))\n",
    "\n",
    "top_model.add(Dense(64, activation='relu'))\n",
    "model_aug.add(Dropout(0.2))\n",
    "\n",
    "top_model.add(Dense(1, activation='sigmoid'))\n",
    "\n",
    "model_aug.add(top_model)\n",
    "\n",
    "for layer in model_aug.layers[0].layers[:171]:\n",
    "    layer.trainable=False\n",
    "\n",
    "model_aug.load_weights('../new_resnet50_weights.h5')\n",
    "model_aug.compile(loss='binary_crossentropy', optimizer=keras.optimizers.Adam(learning_rate=1e-3), metrics=['accuracy'])"
   ],
   "metadata": {
    "collapsed": false,
    "ExecuteTime": {
     "end_time": "2023-07-19T17:52:26.308209300Z",
     "start_time": "2023-07-19T17:52:22.383223200Z"
    }
   }
  },
  {
   "cell_type": "markdown",
   "source": [
    "Run the below cell to get the accuracy of the model."
   ],
   "metadata": {
    "collapsed": false
   }
  },
  {
   "cell_type": "code",
   "execution_count": 23,
   "outputs": [],
   "source": [
    "loss, accuracy = model_aug.evaluate(np.array(holdout_data), np.array(holdout_labels))\n",
    "print(\"Accuracy of the model: \",accuracy)"
   ],
   "metadata": {
    "collapsed": false,
    "ExecuteTime": {
     "end_time": "2023-07-19T18:31:45.872793500Z",
     "start_time": "2023-07-19T18:31:45.849410Z"
    }
   }
  },
  {
   "cell_type": "code",
   "execution_count": 24,
   "outputs": [],
   "source": [
    "model_preds = []\n",
    "for i in np.array(holdout_data):\n",
    "    pred = model_aug.predict(i[np.newaxis, ...])\n",
    "    if pred < 0.5:\n",
    "        pred = 0\n",
    "    elif pred >= 0.5:\n",
    "        pred = 1\n",
    "    model_preds.append(pred)"
   ],
   "metadata": {
    "collapsed": false,
    "ExecuteTime": {
     "end_time": "2023-07-19T18:32:21.512027700Z",
     "start_time": "2023-07-19T18:32:21.502035700Z"
    }
   }
  },
  {
   "cell_type": "code",
   "execution_count": 25,
   "outputs": [],
   "source": [
    "import seaborn as sns\n",
    "import matplotlib.pyplot as plt\n",
    "from sklearn.metrics import confusion_matrix\n",
    "\n",
    "# Assuming model_preds and y_test are numpy arrays or lists containing the predictions and true labels, respectively\n",
    "conf_matrix = confusion_matrix(holdout_labels, model_preds)\n",
    "\n",
    "# Create a heatmap using Seaborn\n",
    "plt.figure(figsize=(8, 6))\n",
    "sns.heatmap(conf_matrix, annot=True, fmt='d', cmap='Blues', cbar=False)\n",
    "\n",
    "# Set axis labels and title\n",
    "plt.xlabel('Predicted Labels')\n",
    "plt.ylabel('True Labels')\n",
    "plt.title('Confusion Matrix')\n",
    "\n",
    "plt.show()\n"
   ],
   "metadata": {
    "collapsed": false,
    "ExecuteTime": {
     "end_time": "2023-07-19T18:32:26.110943100Z",
     "start_time": "2023-07-19T18:32:26.086952500Z"
    }
   }
  },
  {
   "cell_type": "code",
   "execution_count": 26,
   "outputs": [],
   "source": [
    "# model_aug.load_weights('../new_resnet50_weights.h5')\n",
    "# model_aug.compile(loss='binary_crossentropy', optimizer=keras.optimizers.Adam(learning_rate=1e-3), metrics=['accuracy'])\n",
    "# loss, accuracy = model_aug.evaluate(np.array(resized_test_data), np.array(test_labels))\n",
    "# print(\"Accuracy of the model: \",accuracy)"
   ],
   "metadata": {
    "collapsed": false,
    "ExecuteTime": {
     "end_time": "2023-07-19T18:32:30.442497Z",
     "start_time": "2023-07-19T18:32:30.426477500Z"
    }
   }
  },
  {
   "cell_type": "code",
   "execution_count": null,
   "outputs": [],
   "source": [],
   "metadata": {
    "collapsed": false
   }
  }
 ],
 "metadata": {
  "kernelspec": {
   "display_name": "Python 3",
   "language": "python",
   "name": "python3"
  },
  "language_info": {
   "codemirror_mode": {
    "name": "ipython",
    "version": 2
   },
   "file_extension": ".py",
   "mimetype": "text/x-python",
   "name": "python",
   "nbconvert_exporter": "python",
   "pygments_lexer": "ipython2",
   "version": "2.7.6"
  }
 },
 "nbformat": 4,
 "nbformat_minor": 0
}
